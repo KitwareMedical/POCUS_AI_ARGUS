{
 "cells": [
  {
   "cell_type": "code",
   "execution_count": 7,
   "id": "2186cf40-4a22-4c3a-b344-32694c15616e",
   "metadata": {},
   "outputs": [],
   "source": [
    "import os\n",
    "\n",
    "import shutil\n",
    "\n",
    "from glob import glob"
   ]
  },
  {
   "cell_type": "code",
   "execution_count": 22,
   "id": "7005b53d-05ba-4cad-88c4-11d918c72517",
   "metadata": {},
   "outputs": [],
   "source": [
    "def merge_data(files, prefix, dest):\n",
    "    for file in files:\n",
    "        basename = os.path.split(file)[1]\n",
    "        new_file = os.path.join(dest, prefix+basename)\n",
    "        if os.path.exists(new_file):\n",
    "            os.remove(new_file)\n",
    "        print(new_file)\n",
    "        shutil.copy2(file, new_file)"
   ]
  },
  {
   "cell_type": "code",
   "execution_count": 23,
   "id": "46f34495-0aab-467b-a6bb-90bdf6972c1e",
   "metadata": {},
   "outputs": [
    {
     "name": "stdout",
     "output_type": "stream",
     "text": [
      "images_ptx\\sliding_image_1036584980280_CLEAN.mha\n",
      "images_ptx\\sliding_image_1215182877868_CLEAN.mha\n",
      "images_ptx\\sliding_image_1355315203127_CLEAN.mha\n",
      "images_ptx\\sliding_image_1447186382728_CLEAN.mha\n",
      "images_ptx\\sliding_image_1675609772328_CLEAN.mha\n",
      "images_ptx\\sliding_image_1710325448148_CLEAN.mha\n",
      "images_ptx\\sliding_image_2100361349561_CLEAN.mha\n",
      "images_ptx\\sliding_image_222706744966_CLEAN.mha\n",
      "images_ptx\\sliding_image_225130637841202_CLEAN.mha\n",
      "images_ptx\\sliding_image_2370853937896_CLEAN.mha\n",
      "images_ptx\\sliding_image_2518177532892_CLEAN.mha\n",
      "images_ptx\\sliding_image_2673074007832_CLEAN.mha\n",
      "images_ptx\\sliding_image_2719958257554_CLEAN.mha\n",
      "images_ptx\\sliding_image_3012822351141_CLEAN.mha\n",
      "images_ptx\\sliding_image_307870966391_CLEAN.mha\n",
      "images_ptx\\sliding_image_358997745435_CLEAN.mha\n",
      "images_ptx\\sliding_image_383588065321_CLEAN.mha\n",
      "images_ptx\\sliding_image_4065361175427_CLEAN.mha\n",
      "images_ptx\\sliding_image_432792096448_CLEAN.mha\n",
      "images_ptx\\sliding_image_527803396828_CLEAN.mha\n",
      "images_ptx\\sliding_image_703682641552_CLEAN.mha\n",
      "images_ptx\\sliding_image_740584633467_CLEAN.mha\n",
      "images_ptx\\sliding_image_987146487434_CLEAN.mha\n",
      "images_ptx\\sliding_image_9970708112236_CLEAN.mha\n"
     ]
    }
   ],
   "source": [
    "files = glob(\"raw_test/PTX-MHA/Sliding/*N.mha\")\n",
    "prefix = \"sliding_\"\n",
    "merge_data(files, prefix, \"images_ptx\")"
   ]
  },
  {
   "cell_type": "code",
   "execution_count": 25,
   "id": "b1afa0df-8de8-48b9-8d57-8b840702664c",
   "metadata": {},
   "outputs": [
    {
     "name": "stdout",
     "output_type": "stream",
     "text": [
      "images_ptx\\notsliding_image_1604910716625_CLEAN.mha\n",
      "images_ptx\\notsliding_image_1991804868665_CLEAN.mha\n",
      "images_ptx\\notsliding_image_233507706680_CLEAN.mha\n",
      "images_ptx\\notsliding_image_2375004178780_CLEAN.mha\n",
      "images_ptx\\notsliding_image_2475978478013_CLEAN.mha\n",
      "images_ptx\\notsliding_image_270509486562_CLEAN.mha\n",
      "images_ptx\\notsliding_image_3512795900742_CLEAN.mha\n",
      "images_ptx\\notsliding_image_3945589816827_CLEAN.mha\n",
      "images_ptx\\notsliding_image_4217982672400_CLEAN.mha\n",
      "images_ptx\\notsliding_image_4227031119375_CLEAN.mha\n",
      "images_ptx\\notsliding_image_456885889303_CLEAN.mha\n",
      "images_ptx\\notsliding_image_507659607045_CLEAN.mha\n",
      "images_ptx\\notsliding_image_543109924479_CLEAN.mha\n",
      "images_ptx\\notsliding_image_560395551296_CLEAN.mha\n",
      "images_ptx\\notsliding_image_595115042480_CLEAN.mha\n",
      "images_ptx\\notsliding_image_620422280751_CLEAN.mha\n",
      "images_ptx\\notsliding_image_6692463753591_CLEAN.mha\n",
      "images_ptx\\notsliding_image_706555992698_CLEAN.mha\n",
      "images_ptx\\notsliding_image_931984558757_CLEAN.mha\n",
      "images_ptx\\notsliding_image_9367839490019_CLEAN.mha\n",
      "images_ptx\\notsliding_image_9401889534225_CLEAN.mha\n"
     ]
    }
   ],
   "source": [
    "files = glob(\"raw_test/PTX-MHA/NotSliding/*N.mha\")\n",
    "prefix = \"notsliding_\"\n",
    "merge_data(files, prefix, \"images_ptx\")"
   ]
  },
  {
   "cell_type": "code",
   "execution_count": 26,
   "id": "02b2127d-80ba-47b1-a7e7-932b6efec249",
   "metadata": {},
   "outputs": [
    {
     "name": "stdout",
     "output_type": "stream",
     "text": [
      "labels_ptx\\sliding_image_1036584980280_CLEAN.overlay.mha\n",
      "labels_ptx\\sliding_image_1215182877868_CLEAN.overlay.mha\n",
      "labels_ptx\\sliding_image_1355315203127_CLEAN.overlay.mha\n",
      "labels_ptx\\sliding_image_1447186382728_CLEAN.overlay.mha\n",
      "labels_ptx\\sliding_image_1675609772328_CLEAN.overlay.mha\n",
      "labels_ptx\\sliding_image_1710325448148_CLEAN.overlay.mha\n",
      "labels_ptx\\sliding_image_2100361349561_CLEAN.overlay.mha\n",
      "labels_ptx\\sliding_image_222706744966_CLEAN.overlay.mha\n",
      "labels_ptx\\sliding_image_225130637841202_CLEAN.overlay.mha\n",
      "labels_ptx\\sliding_image_2370853937896_CLEAN.overlay.mha\n",
      "labels_ptx\\sliding_image_2518177532892_CLEAN.overlay.mha\n",
      "labels_ptx\\sliding_image_2673074007832_CLEAN.overlay.mha\n",
      "labels_ptx\\sliding_image_2719958257554_CLEAN.overlay.mha\n",
      "labels_ptx\\sliding_image_3012822351141_CLEAN.overlay.mha\n",
      "labels_ptx\\sliding_image_307870966391_CLEAN.overlay.mha\n",
      "labels_ptx\\sliding_image_358997745435_CLEAN.overlay.mha\n",
      "labels_ptx\\sliding_image_383588065321_CLEAN.overlay.mha\n",
      "labels_ptx\\sliding_image_4065361175427_CLEAN.overlay.mha\n",
      "labels_ptx\\sliding_image_432792096448_CLEAN.overlay.mha\n",
      "labels_ptx\\sliding_image_527803396828_CLEAN.overlay.mha\n",
      "labels_ptx\\sliding_image_703682641552_CLEAN.overlay.mha\n",
      "labels_ptx\\sliding_image_740584633467_CLEAN.overlay.mha\n",
      "labels_ptx\\sliding_image_987146487434_CLEAN.overlay.mha\n",
      "labels_ptx\\sliding_image_9970708112236_CLEAN.overlay.mha\n"
     ]
    }
   ],
   "source": [
    "files = glob(\"raw_test/PTX-MHA/Sliding/*y.mha\")\n",
    "prefix = \"sliding_\"\n",
    "merge_data(files, prefix, \"labels_ptx\")"
   ]
  },
  {
   "cell_type": "code",
   "execution_count": 27,
   "id": "f5de7b5d-8cd3-4986-a645-ebdd2a544a66",
   "metadata": {},
   "outputs": [
    {
     "name": "stdout",
     "output_type": "stream",
     "text": [
      "labels_ptx\\notsliding_image_1604910716625_CLEAN.overlay.mha\n",
      "labels_ptx\\notsliding_image_1991804868665_CLEAN.overlay.mha\n",
      "labels_ptx\\notsliding_image_233507706680_CLEAN.overlay.mha\n",
      "labels_ptx\\notsliding_image_2375004178780_CLEAN.overlay.mha\n",
      "labels_ptx\\notsliding_image_2475978478013_CLEAN.overlay.mha\n",
      "labels_ptx\\notsliding_image_270509486562_CLEAN.overlay.mha\n",
      "labels_ptx\\notsliding_image_3512795900742_CLEAN.overlay.mha\n",
      "labels_ptx\\notsliding_image_3945589816827_CLEAN.overlay.mha\n",
      "labels_ptx\\notsliding_image_4217982672400_CLEAN.overlay.mha\n",
      "labels_ptx\\notsliding_image_4227031119375_CLEAN.overlay.mha\n",
      "labels_ptx\\notsliding_image_456885889303_CLEAN.overlay.mha\n",
      "labels_ptx\\notsliding_image_507659607045_CLEAN.overlay.mha\n",
      "labels_ptx\\notsliding_image_543109924479_CLEAN.overlay.mha\n",
      "labels_ptx\\notsliding_image_560395551296_CLEAN.overlay.mha\n",
      "labels_ptx\\notsliding_image_595115042480_CLEAN.overlay.mha\n",
      "labels_ptx\\notsliding_image_620422280751_CLEAN.overlay.mha\n",
      "labels_ptx\\notsliding_image_6692463753591_CLEAN.overlay.mha\n",
      "labels_ptx\\notsliding_image_706555992698_CLEAN.overlay.mha\n",
      "labels_ptx\\notsliding_image_931984558757_CLEAN.overlay.mha\n",
      "labels_ptx\\notsliding_image_9367839490019_CLEAN.overlay.mha\n",
      "labels_ptx\\notsliding_image_9401889534225_CLEAN.overlay.mha\n"
     ]
    }
   ],
   "source": [
    "files = glob(\"raw_test/PTX-MHA/NotSliding/*y.mha\")\n",
    "prefix = \"notsliding_\"\n",
    "merge_data(files, prefix, \"labels_ptx\")"
   ]
  },
  {
   "cell_type": "code",
   "execution_count": null,
   "id": "d1bd293a-951e-4bed-957c-6dbc917e2f4a",
   "metadata": {},
   "outputs": [],
   "source": []
  }
 ],
 "metadata": {
  "kernelspec": {
   "display_name": "Python 3 (ipykernel)",
   "language": "python",
   "name": "python3"
  },
  "language_info": {
   "codemirror_mode": {
    "name": "ipython",
    "version": 3
   },
   "file_extension": ".py",
   "mimetype": "text/x-python",
   "name": "python",
   "nbconvert_exporter": "python",
   "pygments_lexer": "ipython3",
   "version": "3.9.13"
  },
  "widgets": {
   "application/vnd.jupyter.widget-state+json": {
    "state": {},
    "version_major": 2,
    "version_minor": 0
   }
  }
 },
 "nbformat": 4,
 "nbformat_minor": 5
}
