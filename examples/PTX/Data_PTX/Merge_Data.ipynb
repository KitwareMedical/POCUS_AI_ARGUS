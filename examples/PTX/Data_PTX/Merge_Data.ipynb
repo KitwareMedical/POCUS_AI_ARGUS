{
 "cells": [
  {
   "cell_type": "code",
   "execution_count": 1,
   "id": "2186cf40-4a22-4c3a-b344-32694c15616e",
   "metadata": {},
   "outputs": [],
   "source": [
    "import os\n",
    "\n",
    "import shutil\n",
    "\n",
    "from glob import glob"
   ]
  },
  {
   "cell_type": "code",
   "execution_count": 3,
   "id": "7005b53d-05ba-4cad-88c4-11d918c72517",
   "metadata": {},
   "outputs": [],
   "source": [
    "def merge_data(files, prefix):\n",
    "    for file in files:\n",
    "        basename = os.path.split(file)[1]\n",
    "        shutil.copy2(file, os.path.join(\"images\", prefix+basename))"
   ]
  },
  {
   "cell_type": "code",
   "execution_count": 5,
   "id": "46f34495-0aab-467b-a6bb-90bdf6972c1e",
   "metadata": {},
   "outputs": [],
   "source": [
    "files = glob(\"Phase1_TestData_Annotated/Sliding/*.mha\")\n",
    "prefix = \"sliding_\"\n",
    "merge_data(files, prefix)"
   ]
  },
  {
   "cell_type": "code",
   "execution_count": 6,
   "id": "b1afa0df-8de8-48b9-8d57-8b840702664c",
   "metadata": {},
   "outputs": [],
   "source": [
    "files = glob(\"Phase1_TestData_Annotated/NotSliding/*.mha\")\n",
    "prefix = \"notsliding_\"\n",
    "merge_data(files, prefix)"
   ]
  },
  {
   "cell_type": "code",
   "execution_count": 7,
   "id": "02b2127d-80ba-47b1-a7e7-932b6efec249",
   "metadata": {},
   "outputs": [],
   "source": [
    "files = glob(\"Phase1_TrainData_Annotated/Sliding/*.mha\")\n",
    "prefix = \"sliding_\"\n",
    "merge_data(files, prefix)\n",
    "files = glob(\"Phase1_TrainData_Annotated/NotSliding/*.mha\")\n",
    "prefix = \"notsliding_\"\n",
    "merge_data(files, prefix)"
   ]
  }
 ],
 "metadata": {
  "kernelspec": {
   "display_name": "Python 3 (ipykernel)",
   "language": "python",
   "name": "python3"
  },
  "language_info": {
   "codemirror_mode": {
    "name": "ipython",
    "version": 3
   },
   "file_extension": ".py",
   "mimetype": "text/x-python",
   "name": "python",
   "nbconvert_exporter": "python",
   "pygments_lexer": "ipython3",
   "version": "3.8.10"
  },
  "widgets": {
   "application/vnd.jupyter.widget-state+json": {
    "state": {},
    "version_major": 2,
    "version_minor": 0
   }
  }
 },
 "nbformat": 4,
 "nbformat_minor": 5
}
